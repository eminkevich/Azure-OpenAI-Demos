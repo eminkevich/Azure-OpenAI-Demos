{
 "cells": [
  {
   "metadata": {
    "ExecuteTime": {
     "end_time": "2024-04-26T19:20:32.615835Z",
     "start_time": "2024-04-26T19:20:26.404535Z"
    }
   },
   "cell_type": "code",
   "source": [
    "import io\n",
    "import time\n",
    "import os\n",
    "import pandas as pd\n",
    "import openai\n",
    "import requests\n",
    "from dotenv import load_dotenv\n",
    "from openai import AzureOpenAI"
   ],
   "id": "5d013727050cc583",
   "outputs": [],
   "execution_count": 2
  },
  {
   "metadata": {},
   "cell_type": "code",
   "source": [
    "load_dotenv(\"azure.env\", override=True)\n",
    "\n",
    "# Azure Open AI\n",
    "# OBS!\n",
    "# https://learn.microsoft.com/en-us/azure/ai-services/openai/concepts/models#assistants-preview\n",
    "# https://learn.microsoft.com/en-us/azure/ai-services/openai/assistants-reference?tabs=python\n",
    "openai.api_type = \"azure\"\n",
    "openai.api_key = os.getenv(\"OPENAI_API_KEY\")\n",
    "openai.api_base = os.getenv(\"OPENAI_API_BASE\")\n",
    "openai.api_version = os.getenv(\"OPENAI_API_VERSION\")\n",
    "\n",
    "# MODEL_NAME: str = 'gpt-4-1106-preview'\n",
    "MODEL_NAME: str = 'gpt-35-turbo-0613'\n",
    "\n",
    "URL: str = \"https://raw.githubusercontent.com/cs109/2014_data/master/countries.csv\"\n",
    "\n",
    "print(\"Open AI version:\", openai.__version__)\n",
    "print(\"Open AI API Version:\", openai.api_version)\n",
    "print(\"Open AI API BASE:\", os.getenv(\"OPENAI_API_BASE\"))"
   ],
   "id": "82fc58650a6f7e7f",
   "outputs": [],
   "execution_count": null
  },
  {
   "metadata": {},
   "cell_type": "code",
   "source": [
    "# CHECK DATA\n",
    "c = pd.read_csv(URL)\n",
    "print(c.head(5))\n",
    "number_of_countries = c['Country'].nunique()\n",
    "number_of_countries"
   ],
   "id": "b69c490f7c176bad",
   "outputs": [],
   "execution_count": null
  },
  {
   "metadata": {
    "ExecuteTime": {
     "end_time": "2024-04-26T19:20:32.864300Z",
     "start_time": "2024-04-26T19:20:32.852838Z"
    }
   },
   "cell_type": "code",
   "source": [
    "client = AzureOpenAI(\n",
    "    api_key=openai.api_key,\n",
    "    api_version=openai.api_version,\n",
    "    azure_endpoint=openai.api_base\n",
    ")"
   ],
   "id": "c39adb2b10dc0955",
   "outputs": [],
   "execution_count": 5
  },
  {
   "metadata": {
    "ExecuteTime": {
     "end_time": "2024-04-26T19:20:35.078885Z",
     "start_time": "2024-04-26T19:20:32.900562Z"
    }
   },
   "cell_type": "code",
   "source": [
    "assistant = client.beta.assistants.create(\n",
    "    name=f\"TEST - {MODEL_NAME}\",\n",
    "    instructions=f\"You are a helpful AI assistant who analyses data.\"\n",
    "                 f\"You have access to a sandboxed environment for writing and testing code.\"\n",
    "                 f\"When you are asked to do analysis should follow these steps:\"\n",
    "                 f\"1. Write the code.\"\n",
    "                 f\"2. Anytime you write new code display a preview of the code to show your work.\"\n",
    "                 f\"3. Run the code to confirm that it runs.\"\n",
    "                 f\"4. If the code is successful return the result.\"\n",
    "                 f\"5. If the code is unsuccessful display the error message and try to revise the code and rerun going through the steps from above again.\",\n",
    "    tools=[{\"type\": \"code_interpreter\"}],\n",
    "    model=MODEL_NAME,\n",
    ")"
   ],
   "id": "36daf545556ce398",
   "outputs": [],
   "execution_count": 6
  },
  {
   "metadata": {
    "ExecuteTime": {
     "end_time": "2024-04-26T19:20:44.467530Z",
     "start_time": "2024-04-26T19:20:35.081206Z"
    }
   },
   "cell_type": "code",
   "source": [
    "# Loading the remote file to the assistant\n",
    "response = requests.get(URL)\n",
    "file_io = io.BytesIO(response.content)\n",
    "\n",
    "# OBS! The file name is not inferred from the URL and has to be explicitly set\n",
    "# Setting it to a different name to demonstrate\n",
    "file = client.files.create(\n",
    "    file=(\"countries_regions.csv\",file_io),\n",
    "    purpose=\"assistants\"\n",
    ")"
   ],
   "id": "7244a1a80994c5cf",
   "outputs": [],
   "execution_count": 7
  },
  {
   "metadata": {
    "ExecuteTime": {
     "end_time": "2024-04-26T19:20:49.718847Z",
     "start_time": "2024-04-26T19:20:44.470828Z"
    }
   },
   "cell_type": "code",
   "source": [
    "# Add a user question to the thread\n",
    "thread = client.beta.threads.create()\n",
    "\n",
    "message = client.beta.threads.messages.create(\n",
    "    thread_id=thread.id,\n",
    "    role=\"user\",\n",
    "    content=\"How many regions are listed in the file?\",\n",
    "    file_ids = [file.id]\n",
    ")\n",
    "\n",
    "# Run the thread\n",
    "run = client.beta.threads.runs.create(\n",
    "    thread_id=thread.id,\n",
    "    assistant_id=assistant.id\n",
    ")\n",
    "\n",
    "# Looping until the run completes or fails\n",
    "while run.status in ['queued', 'in_progress', 'cancelling']:\n",
    "    time.sleep(1)\n",
    "    run = client.beta.threads.runs.retrieve(\n",
    "        thread_id=thread.id,\n",
    "        run_id=run.id\n",
    "    )"
   ],
   "id": "ede33d6c6a92c12",
   "outputs": [],
   "execution_count": 8
  },
  {
   "metadata": {},
   "cell_type": "code",
   "source": [
    "if run.status == 'completed':\n",
    "    messages = client.beta.threads.messages.list( thread_id=thread.id )\n",
    "    text = [bloc.text.value for message in messages for bloc in message.content]\n",
    "\n",
    "    for t in list(reversed(text)):\n",
    "        print(t)\n",
    "        \n",
    "elif run.status == 'requires_action':\n",
    "    pass\n",
    "else:\n",
    "    print(run.status)"
   ],
   "id": "eee45f801b32aa64",
   "outputs": [],
   "execution_count": null
  },
  {
   "metadata": {},
   "cell_type": "code",
   "source": [
    "# Show generated code\n",
    "run_steps = client.beta.threads.runs.steps.list(\n",
    "    thread_id=thread.id,\n",
    "    run_id=run.id\n",
    ")\n",
    "\n",
    "tool_calls = [object[1] for object, type in [step.step_details for step in run_steps] if object[0] == \"tool_calls\"]\n",
    "code_segments = [call[0].code_interpreter.input for call in tool_calls if call[0].code_interpreter]\n",
    "\n",
    "for code_segment in code_segments:\n",
    "    print(\"------\")\n",
    "    print(code_segment)"
   ],
   "id": "cc877e1e2facbda2",
   "outputs": [],
   "execution_count": null
  },
  {
   "metadata": {
    "ExecuteTime": {
     "end_time": "2024-04-26T11:55:20.887194Z",
     "start_time": "2024-04-26T11:55:20.425652Z"
    }
   },
   "cell_type": "code",
   "source": [
    "# Remove the uploaded file\n",
    "cursor = client.files.list()\n",
    "\n",
    "for file in cursor:\n",
    "    print(file.id)\n",
    "    client.files.delete(file.id)"
   ],
   "id": "e3fd186b7ff1aeaf",
   "outputs": [],
   "execution_count": 86
  }
 ],
 "metadata": {
  "kernelspec": {
   "display_name": "Python 3",
   "language": "python",
   "name": "python3"
  },
  "language_info": {
   "codemirror_mode": {
    "name": "ipython",
    "version": 2
   },
   "file_extension": ".py",
   "mimetype": "text/x-python",
   "name": "python",
   "nbconvert_exporter": "python",
   "pygments_lexer": "ipython2",
   "version": "2.7.6"
  }
 },
 "nbformat": 4,
 "nbformat_minor": 5
}
